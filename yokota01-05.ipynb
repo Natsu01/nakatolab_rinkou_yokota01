{
 "cells": [
  {
   "cell_type": "code",
   "execution_count": 45,
   "metadata": {},
   "outputs": [
    {
     "name": "stdout",
     "output_type": "stream",
     "text": [
      "119046\n",
      "Enter your num: 10\n"
     ]
    },
    {
     "data": {
      "text/html": [
       "<div>\n",
       "<style scoped>\n",
       "    .dataframe tbody tr th:only-of-type {\n",
       "        vertical-align: middle;\n",
       "    }\n",
       "\n",
       "    .dataframe tbody tr th {\n",
       "        vertical-align: top;\n",
       "    }\n",
       "\n",
       "    .dataframe thead th {\n",
       "        text-align: right;\n",
       "    }\n",
       "</style>\n",
       "<table border=\"1\" class=\"dataframe\">\n",
       "  <thead>\n",
       "    <tr style=\"text-align: right;\">\n",
       "      <th></th>\n",
       "      <th>0</th>\n",
       "      <th>1</th>\n",
       "    </tr>\n",
       "  </thead>\n",
       "  <tbody>\n",
       "    <tr>\n",
       "      <td>119036</td>\n",
       "      <td>広島県山県郡北広島町</td>\n",
       "      <td>今田</td>\n",
       "    </tr>\n",
       "    <tr>\n",
       "      <td>119037</td>\n",
       "      <td>徳島県阿波市</td>\n",
       "      <td>土成町浦池</td>\n",
       "    </tr>\n",
       "    <tr>\n",
       "      <td>119038</td>\n",
       "      <td>山口県柳井市</td>\n",
       "      <td>天神</td>\n",
       "    </tr>\n",
       "    <tr>\n",
       "      <td>119039</td>\n",
       "      <td>北海道恵庭市</td>\n",
       "      <td>桜森</td>\n",
       "    </tr>\n",
       "    <tr>\n",
       "      <td>119040</td>\n",
       "      <td>福島県河沼郡会津坂下町</td>\n",
       "      <td>樋島</td>\n",
       "    </tr>\n",
       "    <tr>\n",
       "      <td>119041</td>\n",
       "      <td>高知県安芸郡北川村</td>\n",
       "      <td>二タ又</td>\n",
       "    </tr>\n",
       "    <tr>\n",
       "      <td>119042</td>\n",
       "      <td>静岡県静岡市清水区</td>\n",
       "      <td>入江南町</td>\n",
       "    </tr>\n",
       "    <tr>\n",
       "      <td>119043</td>\n",
       "      <td>和歌山県和歌山市</td>\n",
       "      <td>楠見中</td>\n",
       "    </tr>\n",
       "    <tr>\n",
       "      <td>119044</td>\n",
       "      <td>鹿児島県薩摩川内市</td>\n",
       "      <td>西向田町</td>\n",
       "    </tr>\n",
       "    <tr>\n",
       "      <td>119045</td>\n",
       "      <td>秋田県由利本荘市</td>\n",
       "      <td>飯沢</td>\n",
       "    </tr>\n",
       "  </tbody>\n",
       "</table>\n",
       "</div>"
      ],
      "text/plain": [
       "                  0      1\n",
       "119036   広島県山県郡北広島町     今田\n",
       "119037       徳島県阿波市  土成町浦池\n",
       "119038       山口県柳井市     天神\n",
       "119039       北海道恵庭市     桜森\n",
       "119040  福島県河沼郡会津坂下町     樋島\n",
       "119041    高知県安芸郡北川村    二タ又\n",
       "119042    静岡県静岡市清水区   入江南町\n",
       "119043     和歌山県和歌山市    楠見中\n",
       "119044    鹿児島県薩摩川内市   西向田町\n",
       "119045     秋田県由利本荘市     飯沢"
      ]
     },
     "execution_count": 45,
     "metadata": {},
     "output_type": "execute_result"
    }
   ],
   "source": [
    "import os\n",
    "import sys\n",
    "import argparse\n",
    "import numpy as np\n",
    "import pandas as pd\n",
    "df= pd.read_table('address.txt', encoding='utf-8',header=None)\n",
    "#課題１\n",
    "print(len(df))\n",
    "#課題２\n",
    "df.to_csv('address_space.txt', encoding='utf-8',sep=' ')\n",
    "#課題3\n",
    "num= input('Enter your num: ')\n",
    "a=int(num)\n",
    "df.head(a)\n",
    "#課題4\n",
    "df.tail(a)\n",
    "#課題５\n",
    "#pd.df.count((axis=0,level=None,numeric_only=False)"
   ]
  },
  {
   "cell_type": "code",
   "execution_count": null,
   "metadata": {},
   "outputs": [],
   "source": []
  },
  {
   "cell_type": "code",
   "execution_count": null,
   "metadata": {},
   "outputs": [],
   "source": []
  },
  {
   "cell_type": "code",
   "execution_count": null,
   "metadata": {},
   "outputs": [],
   "source": []
  },
  {
   "cell_type": "code",
   "execution_count": null,
   "metadata": {},
   "outputs": [],
   "source": []
  }
 ],
 "metadata": {
  "kernelspec": {
   "display_name": "Python 3",
   "language": "python",
   "name": "python3"
  },
  "language_info": {
   "codemirror_mode": {
    "name": "ipython",
    "version": 3
   },
   "file_extension": ".py",
   "mimetype": "text/x-python",
   "name": "python",
   "nbconvert_exporter": "python",
   "pygments_lexer": "ipython3",
   "version": "3.7.4"
  }
 },
 "nbformat": 4,
 "nbformat_minor": 2
}
